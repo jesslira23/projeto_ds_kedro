{
 "cells": [
  {
   "cell_type": "code",
   "execution_count": 13,
   "id": "3a92965b-52cf-4183-805d-87e091add0b5",
   "metadata": {},
   "outputs": [],
   "source": [
    "#import libs\n",
    "\n",
    "import pandas as pd"
   ]
  },
  {
   "cell_type": "code",
   "execution_count": 14,
   "id": "fb6225d2-7921-41d3-8d05-d5e45af32d26",
   "metadata": {},
   "outputs": [],
   "source": [
    "## Carregamento do catalog"
   ]
  },
  {
   "cell_type": "code",
   "execution_count": 15,
   "id": "bd4e05af-6492-43c8-bbe5-7f7e7c644187",
   "metadata": {},
   "outputs": [
    {
     "data": {
      "text/plain": [
       "['election_databse', 'parameters']"
      ]
     },
     "execution_count": 15,
     "metadata": {},
     "output_type": "execute_result"
    }
   ],
   "source": [
    "catalog.list()"
   ]
  },
  {
   "cell_type": "code",
   "execution_count": 16,
   "id": "c742d53b-61b4-4f24-bebb-642daed9d04f",
   "metadata": {},
   "outputs": [
    {
     "name": "stdout",
     "output_type": "stream",
     "text": [
      "2022-06-21 22:17:01,277 - kedro.io.data_catalog - INFO - Loading data from `election_databse` (CSVDataSet)...\n"
     ]
    },
    {
     "data": {
      "text/html": [
       "<div>\n",
       "<style scoped>\n",
       "    .dataframe tbody tr th:only-of-type {\n",
       "        vertical-align: middle;\n",
       "    }\n",
       "\n",
       "    .dataframe tbody tr th {\n",
       "        vertical-align: top;\n",
       "    }\n",
       "\n",
       "    .dataframe thead th {\n",
       "        text-align: right;\n",
       "    }\n",
       "</style>\n",
       "<table border=\"1\" class=\"dataframe\">\n",
       "  <thead>\n",
       "    <tr style=\"text-align: right;\">\n",
       "      <th></th>\n",
       "      <th>TimeElapsed</th>\n",
       "      <th>time</th>\n",
       "      <th>territoryName</th>\n",
       "      <th>totalMandates</th>\n",
       "      <th>availableMandates</th>\n",
       "      <th>numParishes</th>\n",
       "      <th>numParishesApproved</th>\n",
       "      <th>blankVotes</th>\n",
       "      <th>blankVotesPercentage</th>\n",
       "      <th>nullVotes</th>\n",
       "      <th>...</th>\n",
       "      <th>pre.votersPercentage</th>\n",
       "      <th>pre.subscribedVoters</th>\n",
       "      <th>pre.totalVoters</th>\n",
       "      <th>Party</th>\n",
       "      <th>Mandates</th>\n",
       "      <th>Percentage</th>\n",
       "      <th>validVotesPercentage</th>\n",
       "      <th>Votes</th>\n",
       "      <th>Hondt</th>\n",
       "      <th>FinalMandates</th>\n",
       "    </tr>\n",
       "  </thead>\n",
       "  <tbody>\n",
       "    <tr>\n",
       "      <th>0</th>\n",
       "      <td>0</td>\n",
       "      <td>2019-10-06 20:10:02</td>\n",
       "      <td>Território Nacional</td>\n",
       "      <td>0</td>\n",
       "      <td>226</td>\n",
       "      <td>3092</td>\n",
       "      <td>1081</td>\n",
       "      <td>9652</td>\n",
       "      <td>2.5</td>\n",
       "      <td>8874</td>\n",
       "      <td>...</td>\n",
       "      <td>52.66</td>\n",
       "      <td>813743</td>\n",
       "      <td>428546</td>\n",
       "      <td>PS</td>\n",
       "      <td>0</td>\n",
       "      <td>38.29</td>\n",
       "      <td>40.22</td>\n",
       "      <td>147993</td>\n",
       "      <td>94</td>\n",
       "      <td>106</td>\n",
       "    </tr>\n",
       "    <tr>\n",
       "      <th>1</th>\n",
       "      <td>0</td>\n",
       "      <td>2019-10-06 20:10:02</td>\n",
       "      <td>Território Nacional</td>\n",
       "      <td>0</td>\n",
       "      <td>226</td>\n",
       "      <td>3092</td>\n",
       "      <td>1081</td>\n",
       "      <td>9652</td>\n",
       "      <td>2.5</td>\n",
       "      <td>8874</td>\n",
       "      <td>...</td>\n",
       "      <td>52.66</td>\n",
       "      <td>813743</td>\n",
       "      <td>428546</td>\n",
       "      <td>PPD/PSD</td>\n",
       "      <td>0</td>\n",
       "      <td>33.28</td>\n",
       "      <td>34.95</td>\n",
       "      <td>128624</td>\n",
       "      <td>81</td>\n",
       "      <td>77</td>\n",
       "    </tr>\n",
       "    <tr>\n",
       "      <th>2</th>\n",
       "      <td>0</td>\n",
       "      <td>2019-10-06 20:10:02</td>\n",
       "      <td>Território Nacional</td>\n",
       "      <td>0</td>\n",
       "      <td>226</td>\n",
       "      <td>3092</td>\n",
       "      <td>1081</td>\n",
       "      <td>9652</td>\n",
       "      <td>2.5</td>\n",
       "      <td>8874</td>\n",
       "      <td>...</td>\n",
       "      <td>52.66</td>\n",
       "      <td>813743</td>\n",
       "      <td>428546</td>\n",
       "      <td>B.E.</td>\n",
       "      <td>0</td>\n",
       "      <td>6.81</td>\n",
       "      <td>7.15</td>\n",
       "      <td>26307</td>\n",
       "      <td>16</td>\n",
       "      <td>19</td>\n",
       "    </tr>\n",
       "    <tr>\n",
       "      <th>3</th>\n",
       "      <td>0</td>\n",
       "      <td>2019-10-06 20:10:02</td>\n",
       "      <td>Território Nacional</td>\n",
       "      <td>0</td>\n",
       "      <td>226</td>\n",
       "      <td>3092</td>\n",
       "      <td>1081</td>\n",
       "      <td>9652</td>\n",
       "      <td>2.5</td>\n",
       "      <td>8874</td>\n",
       "      <td>...</td>\n",
       "      <td>52.66</td>\n",
       "      <td>813743</td>\n",
       "      <td>428546</td>\n",
       "      <td>CDS-PP</td>\n",
       "      <td>0</td>\n",
       "      <td>4.90</td>\n",
       "      <td>5.14</td>\n",
       "      <td>18923</td>\n",
       "      <td>12</td>\n",
       "      <td>5</td>\n",
       "    </tr>\n",
       "    <tr>\n",
       "      <th>4</th>\n",
       "      <td>0</td>\n",
       "      <td>2019-10-06 20:10:02</td>\n",
       "      <td>Território Nacional</td>\n",
       "      <td>0</td>\n",
       "      <td>226</td>\n",
       "      <td>3092</td>\n",
       "      <td>1081</td>\n",
       "      <td>9652</td>\n",
       "      <td>2.5</td>\n",
       "      <td>8874</td>\n",
       "      <td>...</td>\n",
       "      <td>52.66</td>\n",
       "      <td>813743</td>\n",
       "      <td>428546</td>\n",
       "      <td>PCP-PEV</td>\n",
       "      <td>0</td>\n",
       "      <td>4.59</td>\n",
       "      <td>4.83</td>\n",
       "      <td>17757</td>\n",
       "      <td>11</td>\n",
       "      <td>12</td>\n",
       "    </tr>\n",
       "  </tbody>\n",
       "</table>\n",
       "<p>5 rows × 28 columns</p>\n",
       "</div>"
      ],
      "text/plain": [
       "   TimeElapsed                 time        territoryName  totalMandates  \\\n",
       "0            0  2019-10-06 20:10:02  Território Nacional              0   \n",
       "1            0  2019-10-06 20:10:02  Território Nacional              0   \n",
       "2            0  2019-10-06 20:10:02  Território Nacional              0   \n",
       "3            0  2019-10-06 20:10:02  Território Nacional              0   \n",
       "4            0  2019-10-06 20:10:02  Território Nacional              0   \n",
       "\n",
       "   availableMandates  numParishes  numParishesApproved  blankVotes  \\\n",
       "0                226         3092                 1081        9652   \n",
       "1                226         3092                 1081        9652   \n",
       "2                226         3092                 1081        9652   \n",
       "3                226         3092                 1081        9652   \n",
       "4                226         3092                 1081        9652   \n",
       "\n",
       "   blankVotesPercentage  nullVotes  ...  pre.votersPercentage  \\\n",
       "0                   2.5       8874  ...                 52.66   \n",
       "1                   2.5       8874  ...                 52.66   \n",
       "2                   2.5       8874  ...                 52.66   \n",
       "3                   2.5       8874  ...                 52.66   \n",
       "4                   2.5       8874  ...                 52.66   \n",
       "\n",
       "   pre.subscribedVoters  pre.totalVoters    Party  Mandates  Percentage  \\\n",
       "0                813743           428546       PS         0       38.29   \n",
       "1                813743           428546  PPD/PSD         0       33.28   \n",
       "2                813743           428546     B.E.         0        6.81   \n",
       "3                813743           428546   CDS-PP         0        4.90   \n",
       "4                813743           428546  PCP-PEV         0        4.59   \n",
       "\n",
       "   validVotesPercentage   Votes  Hondt  FinalMandates  \n",
       "0                 40.22  147993     94            106  \n",
       "1                 34.95  128624     81             77  \n",
       "2                  7.15   26307     16             19  \n",
       "3                  5.14   18923     12              5  \n",
       "4                  4.83   17757     11             12  \n",
       "\n",
       "[5 rows x 28 columns]"
      ]
     },
     "execution_count": 16,
     "metadata": {},
     "output_type": "execute_result"
    }
   ],
   "source": [
    "df = catalog.load('election_databse')\n",
    "df\n",
    "df.head()"
   ]
  },
  {
   "cell_type": "code",
   "execution_count": 17,
   "id": "c7e28f6e-390c-4fac-b96a-66a0336dcd38",
   "metadata": {},
   "outputs": [
    {
     "name": "stdout",
     "output_type": "stream",
     "text": [
      "<class 'pandas.core.frame.DataFrame'>\n",
      "RangeIndex: 21643 entries, 0 to 21642\n",
      "Data columns (total 28 columns):\n",
      " #   Column                    Non-Null Count  Dtype  \n",
      "---  ------                    --------------  -----  \n",
      " 0   TimeElapsed               21643 non-null  int64  \n",
      " 1   time                      21643 non-null  object \n",
      " 2   territoryName             21643 non-null  object \n",
      " 3   totalMandates             21643 non-null  int64  \n",
      " 4   availableMandates         21643 non-null  int64  \n",
      " 5   numParishes               21643 non-null  int64  \n",
      " 6   numParishesApproved       21643 non-null  int64  \n",
      " 7   blankVotes                21643 non-null  int64  \n",
      " 8   blankVotesPercentage      21643 non-null  float64\n",
      " 9   nullVotes                 21643 non-null  int64  \n",
      " 10  nullVotesPercentage       21643 non-null  float64\n",
      " 11  votersPercentage          21643 non-null  float64\n",
      " 12  subscribedVoters          21643 non-null  int64  \n",
      " 13  totalVoters               21643 non-null  int64  \n",
      " 14  pre.blankVotes            21643 non-null  int64  \n",
      " 15  pre.blankVotesPercentage  21643 non-null  float64\n",
      " 16  pre.nullVotes             21643 non-null  int64  \n",
      " 17  pre.nullVotesPercentage   21643 non-null  float64\n",
      " 18  pre.votersPercentage      21643 non-null  float64\n",
      " 19  pre.subscribedVoters      21643 non-null  int64  \n",
      " 20  pre.totalVoters           21643 non-null  int64  \n",
      " 21  Party                     21643 non-null  object \n",
      " 22  Mandates                  21643 non-null  int64  \n",
      " 23  Percentage                21643 non-null  float64\n",
      " 24  validVotesPercentage      21643 non-null  float64\n",
      " 25  Votes                     21643 non-null  int64  \n",
      " 26  Hondt                     21643 non-null  int64  \n",
      " 27  FinalMandates             21643 non-null  int64  \n",
      "dtypes: float64(8), int64(17), object(3)\n",
      "memory usage: 4.6+ MB\n"
     ]
    }
   ],
   "source": [
    "df.info()"
   ]
  },
  {
   "cell_type": "code",
   "execution_count": 18,
   "id": "683f6d36-631b-44a0-bc01-2f4094c6311c",
   "metadata": {},
   "outputs": [],
   "source": [
    "## Verificar se tem algum NaN e limpar os dados"
   ]
  },
  {
   "cell_type": "code",
   "execution_count": 19,
   "id": "6156ffb7-10a0-4c24-bc6f-bc57ad8f84fc",
   "metadata": {},
   "outputs": [
    {
     "data": {
      "text/html": [
       "<div>\n",
       "<style scoped>\n",
       "    .dataframe tbody tr th:only-of-type {\n",
       "        vertical-align: middle;\n",
       "    }\n",
       "\n",
       "    .dataframe tbody tr th {\n",
       "        vertical-align: top;\n",
       "    }\n",
       "\n",
       "    .dataframe thead th {\n",
       "        text-align: right;\n",
       "    }\n",
       "</style>\n",
       "<table border=\"1\" class=\"dataframe\">\n",
       "  <thead>\n",
       "    <tr style=\"text-align: right;\">\n",
       "      <th></th>\n",
       "      <th>TimeElapsed</th>\n",
       "      <th>time</th>\n",
       "      <th>territoryName</th>\n",
       "      <th>totalMandates</th>\n",
       "      <th>availableMandates</th>\n",
       "      <th>numParishes</th>\n",
       "      <th>numParishesApproved</th>\n",
       "      <th>blankVotes</th>\n",
       "      <th>blankVotesPercentage</th>\n",
       "      <th>nullVotes</th>\n",
       "      <th>...</th>\n",
       "      <th>pre.votersPercentage</th>\n",
       "      <th>pre.subscribedVoters</th>\n",
       "      <th>pre.totalVoters</th>\n",
       "      <th>Party</th>\n",
       "      <th>Mandates</th>\n",
       "      <th>Percentage</th>\n",
       "      <th>validVotesPercentage</th>\n",
       "      <th>Votes</th>\n",
       "      <th>Hondt</th>\n",
       "      <th>FinalMandates</th>\n",
       "    </tr>\n",
       "  </thead>\n",
       "  <tbody>\n",
       "  </tbody>\n",
       "</table>\n",
       "<p>0 rows × 28 columns</p>\n",
       "</div>"
      ],
      "text/plain": [
       "Empty DataFrame\n",
       "Columns: [TimeElapsed, time, territoryName, totalMandates, availableMandates, numParishes, numParishesApproved, blankVotes, blankVotesPercentage, nullVotes, nullVotesPercentage, votersPercentage, subscribedVoters, totalVoters, pre.blankVotes, pre.blankVotesPercentage, pre.nullVotes, pre.nullVotesPercentage, pre.votersPercentage, pre.subscribedVoters, pre.totalVoters, Party, Mandates, Percentage, validVotesPercentage, Votes, Hondt, FinalMandates]\n",
       "Index: []\n",
       "\n",
       "[0 rows x 28 columns]"
      ]
     },
     "execution_count": 19,
     "metadata": {},
     "output_type": "execute_result"
    }
   ],
   "source": [
    "#limpar os dados e verificar se tem algum NaN\n",
    "nan_df = df[df.isna().any(axis=1)]\n",
    "nan_df.head()"
   ]
  },
  {
   "cell_type": "code",
   "execution_count": 20,
   "id": "540d3d0d-25ea-448b-9e8f-3568178e44be",
   "metadata": {},
   "outputs": [
    {
     "data": {
      "text/plain": [
       "TimeElapsed                 0\n",
       "time                        0\n",
       "territoryName               0\n",
       "totalMandates               0\n",
       "availableMandates           0\n",
       "numParishes                 0\n",
       "numParishesApproved         0\n",
       "blankVotes                  0\n",
       "blankVotesPercentage        0\n",
       "nullVotes                   0\n",
       "nullVotesPercentage         0\n",
       "votersPercentage            0\n",
       "subscribedVoters            0\n",
       "totalVoters                 0\n",
       "pre.blankVotes              0\n",
       "pre.blankVotesPercentage    0\n",
       "pre.nullVotes               0\n",
       "pre.nullVotesPercentage     0\n",
       "pre.votersPercentage        0\n",
       "pre.subscribedVoters        0\n",
       "pre.totalVoters             0\n",
       "Party                       0\n",
       "Mandates                    0\n",
       "Percentage                  0\n",
       "validVotesPercentage        0\n",
       "Votes                       0\n",
       "Hondt                       0\n",
       "FinalMandates               0\n",
       "dtype: int64"
      ]
     },
     "execution_count": 20,
     "metadata": {},
     "output_type": "execute_result"
    }
   ],
   "source": [
    "df.isnull().sum()"
   ]
  },
  {
   "cell_type": "code",
   "execution_count": 21,
   "id": "e6d06329-32ad-4020-a26e-adc80f24115b",
   "metadata": {},
   "outputs": [
    {
     "data": {
      "text/plain": [
       "TimeElapsed                   int64\n",
       "time                         object\n",
       "territoryName                object\n",
       "totalMandates                 int64\n",
       "availableMandates             int64\n",
       "numParishes                   int64\n",
       "numParishesApproved           int64\n",
       "blankVotes                    int64\n",
       "blankVotesPercentage        float64\n",
       "nullVotes                     int64\n",
       "nullVotesPercentage         float64\n",
       "votersPercentage            float64\n",
       "subscribedVoters              int64\n",
       "totalVoters                   int64\n",
       "pre.blankVotes                int64\n",
       "pre.blankVotesPercentage    float64\n",
       "pre.nullVotes                 int64\n",
       "pre.nullVotesPercentage     float64\n",
       "pre.votersPercentage        float64\n",
       "pre.subscribedVoters          int64\n",
       "pre.totalVoters               int64\n",
       "Party                        object\n",
       "Mandates                      int64\n",
       "Percentage                  float64\n",
       "validVotesPercentage        float64\n",
       "Votes                         int64\n",
       "Hondt                         int64\n",
       "FinalMandates                 int64\n",
       "dtype: object"
      ]
     },
     "execution_count": 21,
     "metadata": {},
     "output_type": "execute_result"
    }
   ],
   "source": [
    "#verificar o tipo dos dados da coluna\n",
    "df.dtypes"
   ]
  },
  {
   "cell_type": "code",
   "execution_count": 25,
   "id": "c99983d7-647a-42de-94bf-8ca8eceeff83",
   "metadata": {},
   "outputs": [
    {
     "data": {
      "text/plain": [
       "TimeElapsed                          int64\n",
       "time                        datetime64[ns]\n",
       "territoryName                       object\n",
       "totalMandates                        int64\n",
       "availableMandates                    int64\n",
       "numParishes                          int64\n",
       "numParishesApproved                  int64\n",
       "blankVotes                           int64\n",
       "blankVotesPercentage               float64\n",
       "nullVotes                            int64\n",
       "nullVotesPercentage                float64\n",
       "votersPercentage                   float64\n",
       "subscribedVoters                     int64\n",
       "totalVoters                          int64\n",
       "pre.blankVotes                       int64\n",
       "pre.blankVotesPercentage           float64\n",
       "pre.nullVotes                        int64\n",
       "pre.nullVotesPercentage            float64\n",
       "pre.votersPercentage               float64\n",
       "pre.subscribedVoters                 int64\n",
       "pre.totalVoters                      int64\n",
       "Party                               object\n",
       "Mandates                             int64\n",
       "Percentage                         float64\n",
       "validVotesPercentage               float64\n",
       "Votes                                int64\n",
       "Hondt                                int64\n",
       "FinalMandates                        int64\n",
       "dtype: object"
      ]
     },
     "execution_count": 25,
     "metadata": {},
     "output_type": "execute_result"
    }
   ],
   "source": [
    "df['time'] = pd.to_datetime(df['time'])\n",
    "df.dtypes"
   ]
  },
  {
   "cell_type": "code",
   "execution_count": 27,
   "id": "5e0989e1",
   "metadata": {},
   "outputs": [],
   "source": [
    "def preprocess_time(df: pd.DataFrame):\n",
    "    \"\"\" This function convert time column from object to datetime format.\"\"\"\n",
    "    \n",
    "    # Convert time column \n",
    "    df['time'] = pd.to_datetime(df['time'])\n",
    "    \n",
    "    return df"
   ]
  },
  {
   "cell_type": "code",
   "execution_count": 30,
   "id": "d227c907-a966-4f42-b47a-8c8758529d10",
   "metadata": {},
   "outputs": [
    {
     "name": "stdout",
     "output_type": "stream",
     "text": [
      "2022-06-21 22:30:59,519 - kedro.io.data_catalog - INFO - Loading data from `election_databse` (CSVDataSet)...\n"
     ]
    },
    {
     "data": {
      "text/plain": [
       "TimeElapsed                          int64\n",
       "time                        datetime64[ns]\n",
       "territoryName                       object\n",
       "totalMandates                        int64\n",
       "availableMandates                    int64\n",
       "numParishes                          int64\n",
       "numParishesApproved                  int64\n",
       "blankVotes                           int64\n",
       "blankVotesPercentage               float64\n",
       "nullVotes                            int64\n",
       "nullVotesPercentage                float64\n",
       "votersPercentage                   float64\n",
       "subscribedVoters                     int64\n",
       "totalVoters                          int64\n",
       "pre.blankVotes                       int64\n",
       "pre.blankVotesPercentage           float64\n",
       "pre.nullVotes                        int64\n",
       "pre.nullVotesPercentage            float64\n",
       "pre.votersPercentage               float64\n",
       "pre.subscribedVoters                 int64\n",
       "pre.totalVoters                      int64\n",
       "Party                               object\n",
       "Mandates                             int64\n",
       "Percentage                         float64\n",
       "validVotesPercentage               float64\n",
       "Votes                                int64\n",
       "Hondt                                int64\n",
       "FinalMandates                        int64\n",
       "dtype: object"
      ]
     },
     "execution_count": 30,
     "metadata": {},
     "output_type": "execute_result"
    }
   ],
   "source": [
    "# Test function\n",
    "df_preprocessed = preprocess_time(catalog.load('election_databse'))\n",
    "df_preprocessed\n",
    "df_preprocessed.dtypes"
   ]
  }
 ],
 "metadata": {
  "kernelspec": {
   "display_name": "Kedro (project_ds_kedro)",
   "language": "python",
   "name": "kedro_project_ds_kedro"
  },
  "language_info": {
   "codemirror_mode": {
    "name": "ipython",
    "version": 3
   },
   "file_extension": ".py",
   "mimetype": "text/x-python",
   "name": "python",
   "nbconvert_exporter": "python",
   "pygments_lexer": "ipython3",
   "version": "3.8.6"
  }
 },
 "nbformat": 4,
 "nbformat_minor": 5
}
